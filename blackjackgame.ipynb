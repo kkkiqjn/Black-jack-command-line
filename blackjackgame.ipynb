{
 "cells": [
  {
   "cell_type": "code",
   "execution_count": 16,
   "id": "41a7bae3-b575-40f4-83d4-6d9d416ccdaf",
   "metadata": {},
   "outputs": [],
   "source": [
    "import random\n",
    "class Card:\n",
    "    def __init__(self,suit,value):\n",
    "        self.suit=suit\n",
    "        self.value=value\n",
    "    def __repr__(self):\n",
    "        return \" of \".join((self.suit,str(self.value)))\n",
    "     \n",
    "class Deck:\n",
    "    def __init__(self):\n",
    "        self.cards=[Card(s,v) for s in [\"Spades\", \"Clubs\", \"Hearts\",\n",
    "\"Diamonds\"] for v in [\"A\", \"2\", \"3\", \"4\", \"5\", \"6\",\n",
    "\"7\", \"8\", \"9\", \"10\", \"J\", \"Q\", \"K\"]]\n",
    "    def shuffle(self):\n",
    "        if(len(self.cards)>1):\n",
    "           random.shuffle(self.cards)\n",
    "    def deal(self):\n",
    "           if(len(self.cards)>1):\n",
    "                return self.cards.pop(0)\n",
    "            \n",
    "            \n",
    "class Hand:\n",
    "    def __init__(self,dealer=False):\n",
    "        self.dealer=dealer\n",
    "        self.cards=[]\n",
    "        self.value=0\n",
    "    def add_card(self, card):\n",
    "        self.cards.append(card)        \n",
    "    def  calculate(self):\n",
    "        has_ace=False\n",
    "        self.value=0\n",
    "        for card in self.cards:\n",
    "            if card.value.isnumeric():\n",
    "                self.value=self.value+int(card.value)\n",
    "            else:\n",
    "                if card.value==\"A\":\n",
    "                    has_ace=True\n",
    "                    self.value=self.value+11\n",
    "                else:\n",
    "                    self.value=self.value+10\n",
    "                    \n",
    "        if(self.value>21 and has_ace):\n",
    "            self.value=self.value-10\n",
    "            \n",
    "    def getvalue(self):\n",
    "        self.calculate()\n",
    "        return self.value\n",
    "    def display(self):\n",
    "        if(self.dealer):\n",
    "            print(\"Hidden\")\n",
    "            print(self.cards[1])\n",
    "        else:\n",
    "            for card in self.cards:\n",
    "                print(card)\n",
    "            print(\"value:\",self.getvalue())    \n",
    "        "
   ]
  },
  {
   "cell_type": "code",
   "execution_count": 15,
   "id": "9c0c690f-855c-4427-b794-c59e44d8e355",
   "metadata": {},
   "outputs": [],
   "source": [
    "class Game:\n",
    "    def __init__(self):\n",
    "        playing=True\n",
    "        while playing:\n",
    "            self.deck=Deck()\n",
    "            self.deck.shuffle()\n",
    "        \n",
    "        \n",
    "            self.player_hand=Hand()\n",
    "            self.dealer_hand=Hand(dealer=True)\n",
    "        \n",
    "        \n",
    "        \n",
    "            for i in range(2):\n",
    "                self.player_hand.add_card(self.deck.deal())\n",
    "                self.dealer_hand.add_card(self.deck.deal())\n",
    "            print(\"Your hand is:\")\n",
    "            self.player_hand.display()\n",
    "            print()\n",
    "            print(\"Dealer's hand is:\")\n",
    "            self.dealer_hand.display()\n",
    "            game_over=False\n",
    "            while not game_over:\n",
    "                player_blackjack,dealer_blackjack=self.check_blackjack()\n",
    "                if(player_blackjack or dealer_blackjack):\n",
    "                    \n",
    "                    game_over=True\n",
    "                    self.check_results(player_blackjack,dealer_blackjack)\n",
    "                    continue\n",
    "                    \n",
    "                choice =input(\"Please choose hit or stick\").lower()\n",
    "                if choice in ['h',\"hit\"]:\n",
    "                    self.player_hand.add_card(self.deck.deal())\n",
    "                    self.player_hand.display()\n",
    "                    if self.player_isover():\n",
    "                        print(\"You have lost\")\n",
    "                        game_over=True\n",
    "                        continue\n",
    "                        \n",
    "                        has_won=True\n",
    "                else:\n",
    "                    print(\"--------Final Results---------\")\n",
    "                    print(\"Yours:\",self.player_hand.getvalue())\n",
    "                    print(\"Dealer:\",self.dealer_hand.getvalue())\n",
    "                    if(self.player_hand.getvalue()>self.dealer_hand.getvalue()):\n",
    "                        print(\"you have won\")\n",
    "                        game_over=True\n",
    "                        continue\n",
    "                    else:\n",
    "                        print(\"Dealer Wins!\")\n",
    "                        has_won = True\n",
    "                        game_over=True\n",
    "                        continue\n",
    "                        \n",
    "                        \n",
    "                        \n",
    "                        \n",
    "                        \n",
    "            again=input(\"Want to play again? [Y/N]\").lower()\n",
    "            if again==\"n\":\n",
    "                print(\"Thanks for playing\")\n",
    "                playing=False\n",
    "            elif again==\"y\":\n",
    "                has_won=False\n",
    "                playing=True\n",
    "        \n",
    "    def check_blackjack(self):\n",
    "        player=False\n",
    "        dealer=False\n",
    "        if(self.player_hand.getvalue()==21):\n",
    "            player=True\n",
    "        if(self.dealer_hand.getvalue()==21):\n",
    "            dealer=True\n",
    "            \n",
    "            \n",
    "        return player, dealer       \n",
    "            \n",
    "    def check_results(self,player_blackjack,dealer_blackjack):\n",
    "        if(player_blackjack and dealer_blackjack):\n",
    "            print(\"It is a draw\")\n",
    "        elif(player_blackjack):\n",
    "            print(\"You have black jack\")\n",
    "        elif(dealer_blackjack):\n",
    "            print(\"dealer has black jack\")\n",
    "    \n",
    "    \n",
    "    \n",
    "    def player_isover(self):\n",
    "        if(self.player_hand.getvalue()>21):\n",
    "            return True\n",
    "        \n",
    "            \n",
    "            \n",
    "        \n",
    "        "
   ]
  },
  {
   "cell_type": "code",
   "execution_count": null,
   "id": "1ed98d4b-2a46-4ec6-8802-a25bb2c069c5",
   "metadata": {},
   "outputs": [
    {
     "name": "stdout",
     "output_type": "stream",
     "text": [
      "Your hand is:\n",
      "Spades of 2\n",
      "Diamonds of 3\n",
      "value: 5\n",
      "\n",
      "Dealer's hand is:\n",
      "Hidden\n",
      "Diamonds of 9\n"
     ]
    },
    {
     "name": "stdin",
     "output_type": "stream",
     "text": [
      "Please choose hit or stick h\n"
     ]
    },
    {
     "name": "stdout",
     "output_type": "stream",
     "text": [
      "Spades of 2\n",
      "Diamonds of 3\n",
      "Hearts of 6\n",
      "value: 11\n"
     ]
    },
    {
     "name": "stdin",
     "output_type": "stream",
     "text": [
      "Please choose hit or stick h\n"
     ]
    },
    {
     "name": "stdout",
     "output_type": "stream",
     "text": [
      "Spades of 2\n",
      "Diamonds of 3\n",
      "Hearts of 6\n",
      "Spades of 9\n",
      "value: 20\n"
     ]
    },
    {
     "name": "stdin",
     "output_type": "stream",
     "text": [
      "Please choose hit or stick s\n"
     ]
    },
    {
     "name": "stdout",
     "output_type": "stream",
     "text": [
      "--------Final Results---------\n",
      "Yours: 20\n",
      "Dealer: 20\n",
      "Dealer Wins!\n"
     ]
    },
    {
     "name": "stdin",
     "output_type": "stream",
     "text": [
      "Want to play again? [Y/N] y\n"
     ]
    },
    {
     "name": "stdout",
     "output_type": "stream",
     "text": [
      "Your hand is:\n",
      "Spades of 3\n",
      "Spades of J\n",
      "value: 13\n",
      "\n",
      "Dealer's hand is:\n",
      "Hidden\n",
      "Clubs of 2\n"
     ]
    },
    {
     "name": "stdin",
     "output_type": "stream",
     "text": [
      "Please choose hit or stick h\n"
     ]
    },
    {
     "name": "stdout",
     "output_type": "stream",
     "text": [
      "Spades of 3\n",
      "Spades of J\n",
      "Hearts of 8\n",
      "value: 21\n",
      "You have black jack\n"
     ]
    }
   ],
   "source": [
    "if __name__==\"__main__\":\n",
    "    game=Game()"
   ]
  },
  {
   "cell_type": "code",
   "execution_count": null,
   "id": "284d46d5-63eb-425a-814f-ee05757595ce",
   "metadata": {},
   "outputs": [],
   "source": []
  },
  {
   "cell_type": "code",
   "execution_count": null,
   "id": "740a1941-04fe-44eb-8097-03093d550a8d",
   "metadata": {},
   "outputs": [],
   "source": []
  }
 ],
 "metadata": {
  "kernelspec": {
   "display_name": "Python 3 (ipykernel)",
   "language": "python",
   "name": "python3"
  },
  "language_info": {
   "codemirror_mode": {
    "name": "ipython",
    "version": 3
   },
   "file_extension": ".py",
   "mimetype": "text/x-python",
   "name": "python",
   "nbconvert_exporter": "python",
   "pygments_lexer": "ipython3",
   "version": "3.9.7"
  }
 },
 "nbformat": 4,
 "nbformat_minor": 5
}
